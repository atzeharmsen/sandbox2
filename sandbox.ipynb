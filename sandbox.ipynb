{
 "cells": [
  {
   "cell_type": "code",
   "id": "initial_id",
   "metadata": {
    "collapsed": true,
    "ExecuteTime": {
     "end_time": "2025-07-03T07:30:53.123267Z",
     "start_time": "2025-07-03T07:30:51.869484Z"
    }
   },
   "source": [
    "import cv2\n",
    "import numpy as np\n",
    "import matplotlib.pyplot as plt\n",
    "from scipy.interpolate import griddata\n",
    "\n",
    "# Load image\n",
    "img = cv2.imread('/mnt/data/76f5e32f-9442-423d-8546-e3ca5062002b.png')\n",
    "gray = cv2.cvtColor(img, cv2.COLOR_BGR2GRAY)\n",
    "\n",
    "# Crop to plotting area if needed (adjust manually based on visual check)\n",
    "cropped = gray[50:420, 60:600]  # [y1:y2, x1:x2]\n",
    "\n",
    "# Threshold to extract lines (invert for white lines on black)\n",
    "_, binary = cv2.threshold(cropped, 100, 255, cv2.THRESH_BINARY_INV)\n",
    "\n",
    "# Find contours\n",
    "contours, _ = cv2.findContours(binary, cv2.RETR_EXTERNAL, cv2.CHAIN_APPROX_SIMPLE)\n",
    "\n",
    "# Image dimensions for coordinate mapping\n",
    "h, w = cropped.shape\n",
    "\n",
    "# Latitude and Altitude ranges\n",
    "lat_range = (-80, 80)\n",
    "alt_range = (10, 60)\n",
    "\n",
    "def pixel_to_data(x, y):\n",
    "    \"\"\"Convert pixel (x,y) to (latitude, altitude)\"\"\"\n",
    "    lat = lat_range[0] + (x / w) * (lat_range[1] - lat_range[0])\n",
    "    alt = alt_range[1] - (y / h) * (alt_range[1] - alt_range[0])\n",
    "    return lat, alt\n",
    "\n",
    "# Sample points from contours\n",
    "data_points = []\n",
    "contour_levels = [0.2, 0.4, 0.6, 0.8, 1.0]\n",
    "level_index = 0\n",
    "\n",
    "for cnt in contours:\n",
    "    # Approximate the contour to reduce number of points\n",
    "    approx = cv2.approxPolyDP(cnt, epsilon=2, closed=False)\n",
    "    for point in approx[::3]:  # downsample points\n",
    "        x, y = point[0]\n",
    "        lat, alt = pixel_to_data(x, y)\n",
    "        value = contour_levels[level_index % len(contour_levels)]\n",
    "        data_points.append((lat, alt, value))\n",
    "    level_index += 1\n",
    "\n",
    "# Convert to array\n",
    "data_points = np.array(data_points)\n",
    "lat, alt, values = data_points[:, 0], data_points[:, 1], data_points[:, 2]\n",
    "\n",
    "# Interpolate onto a grid\n",
    "lat_grid = np.linspace(-80, 80, 200)\n",
    "alt_grid = np.linspace(10, 60, 200)\n",
    "LAT_GRID, ALT_GRID = np.meshgrid(lat_grid, alt_grid)\n",
    "\n",
    "values_grid = griddata(\n",
    "    (lat, alt), values, (LAT_GRID, ALT_GRID), method='linear'\n",
    ")\n",
    "\n",
    "# Plot the interpolated heatmap\n",
    "plt.figure(figsize=(8, 6))\n",
    "cs = plt.contour(LAT_GRID, ALT_GRID, values_grid, levels=contour_levels, colors='black')\n",
    "plt.clabel(cs, inline=True, fontsize=8)\n",
    "plt.xlabel(\"Latitude\")\n",
    "plt.ylabel(\"Altitude (km)\")\n",
    "plt.title(\"Reconstructed Contour Plot from Image\")\n",
    "plt.tight_layout()\n",
    "plt.show()"
   ],
   "outputs": [
    {
     "ename": "error",
     "evalue": "OpenCV(4.11.0) D:\\a\\opencv-python\\opencv-python\\opencv\\modules\\imgproc\\src\\color.cpp:199: error: (-215:Assertion failed) !_src.empty() in function 'cv::cvtColor'\n",
     "output_type": "error",
     "traceback": [
      "\u001B[31m---------------------------------------------------------------------------\u001B[39m",
      "\u001B[31merror\u001B[39m                                     Traceback (most recent call last)",
      "\u001B[36mCell\u001B[39m\u001B[36m \u001B[39m\u001B[32mIn[2]\u001B[39m\u001B[32m, line 8\u001B[39m\n\u001B[32m      6\u001B[39m \u001B[38;5;66;03m# Load image\u001B[39;00m\n\u001B[32m      7\u001B[39m img = cv2.imread(\u001B[33m'\u001B[39m\u001B[33m/mnt/data/76f5e32f-9442-423d-8546-e3ca5062002b.png\u001B[39m\u001B[33m'\u001B[39m)\n\u001B[32m----> \u001B[39m\u001B[32m8\u001B[39m gray = cv2.cvtColor(img, cv2.COLOR_BGR2GRAY)\n\u001B[32m     10\u001B[39m \u001B[38;5;66;03m# Crop to plotting area if needed (adjust manually based on visual check)\u001B[39;00m\n\u001B[32m     11\u001B[39m cropped = gray[\u001B[32m50\u001B[39m:\u001B[32m420\u001B[39m, \u001B[32m60\u001B[39m:\u001B[32m600\u001B[39m]  \u001B[38;5;66;03m# [y1:y2, x1:x2]\u001B[39;00m\n",
      "\u001B[31merror\u001B[39m: OpenCV(4.11.0) D:\\a\\opencv-python\\opencv-python\\opencv\\modules\\imgproc\\src\\color.cpp:199: error: (-215:Assertion failed) !_src.empty() in function 'cv::cvtColor'\n"
     ]
    }
   ],
   "execution_count": 2
  },
  {
   "metadata": {},
   "cell_type": "code",
   "outputs": [],
   "execution_count": null,
   "source": "",
   "id": "c63127134a954e50"
  }
 ],
 "metadata": {
  "kernelspec": {
   "display_name": "Python 3",
   "language": "python",
   "name": "python3"
  },
  "language_info": {
   "codemirror_mode": {
    "name": "ipython",
    "version": 2
   },
   "file_extension": ".py",
   "mimetype": "text/x-python",
   "name": "python",
   "nbconvert_exporter": "python",
   "pygments_lexer": "ipython2",
   "version": "2.7.6"
  }
 },
 "nbformat": 4,
 "nbformat_minor": 5
}
