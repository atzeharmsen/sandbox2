{
 "cells": [
  {
   "cell_type": "code",
   "id": "initial_id",
   "metadata": {
    "collapsed": true,
    "ExecuteTime": {
     "end_time": "2025-10-03T12:14:21.986242Z",
     "start_time": "2025-10-03T12:08:16.233327Z"
    }
   },
   "source": [
    "import numpy as np\n",
    "\n",
    "from openairclim.calc_h2 import run_case\n",
    "import os\n",
    "import sys\n",
    "import xarray as xr\n",
    "import logging\n",
    "import glob\n",
    "from pathlib import Path\n",
    "# Y_TO_S = 365.25 * 24 * 60 * 60\n",
    "# M_TO_S = 60 * 60 * 24 * 365.25 / 12\n",
    "# PPB_TO_CM3 = 2.46e10\n",
    "# LWH_KER = 43.15  # lower heating potential of kerosene (MJ/kg)\n",
    "# LWH_H2 = 120.0  # lower heating potential of h2 (MJ/kg)\n",
    "# BG_PATH = \"/repository/h2/SSP_scenarios/\"\n",
    "# SGM_PATH = \"/repository/h2/surrogate_models/\"\n",
    "# FUEL_PATH = \"/repository/h2/fuel_consumption_scenarios/\"\n",
    "\n",
    "\n",
    "# configure the logger\n",
    "logging.basicConfig(\n",
    "    format=\"%(module)s ln. %(lineno)d in %(funcName)s %(levelname)s: %(message)s\",\n",
    "    level=logging.INFO,\n",
    "    handlers=[logging.StreamHandler(sys.stdout)],\n",
    ")\n",
    "\n",
    "# Example use case\n",
    "working_dir = Path(os.path.dirname(os.path.abspath(os.getcwd()))).as_posix()\n",
    "# Fix ROOT_DIR issue\n",
    "\n",
    "# Run a case with default parameters\n",
    "result = run_case(\n",
    "    wd=working_dir,\n",
    "    scenario=\"ssp126\",\n",
    "    start_year=2035,\n",
    "    t_mid=2060,\n",
    "    m_adp=0.27,\n",
    "    f_app=0.0300,\n",
    "    f_del=0.0133,\n",
    "    f_prod=0.0178,\n",
    "    kd=0.38,\n",
    ")\n",
    "\n"
   ],
   "outputs": [
    {
     "name": "stdout",
     "output_type": "stream",
     "text": [
      "['C:/Users/atzeh/PycharmProjects/OAC_Thesis/repository/h2/SSP_scenarios/bg_ssp126.nc']\n"
     ]
    },
    {
     "ename": "KeyboardInterrupt",
     "evalue": "",
     "output_type": "error",
     "traceback": [
      "\u001B[1;31m---------------------------------------------------------------------------\u001B[0m",
      "\u001B[1;31mKeyboardInterrupt\u001B[0m                         Traceback (most recent call last)",
      "Cell \u001B[1;32mIn[13], line 30\u001B[0m\n\u001B[0;32m     26\u001B[0m working_dir \u001B[38;5;241m=\u001B[39m Path(os\u001B[38;5;241m.\u001B[39mpath\u001B[38;5;241m.\u001B[39mdirname(os\u001B[38;5;241m.\u001B[39mpath\u001B[38;5;241m.\u001B[39mabspath(os\u001B[38;5;241m.\u001B[39mgetcwd())))\u001B[38;5;241m.\u001B[39mas_posix()\n\u001B[0;32m     27\u001B[0m \u001B[38;5;66;03m# Fix ROOT_DIR issue\u001B[39;00m\n\u001B[0;32m     28\u001B[0m \n\u001B[0;32m     29\u001B[0m \u001B[38;5;66;03m# Run a case with default parameters\u001B[39;00m\n\u001B[1;32m---> 30\u001B[0m result \u001B[38;5;241m=\u001B[39m \u001B[43mrun_case\u001B[49m\u001B[43m(\u001B[49m\n\u001B[0;32m     31\u001B[0m \u001B[43m    \u001B[49m\u001B[43mwd\u001B[49m\u001B[38;5;241;43m=\u001B[39;49m\u001B[43mworking_dir\u001B[49m\u001B[43m,\u001B[49m\n\u001B[0;32m     32\u001B[0m \u001B[43m    \u001B[49m\u001B[43mscenario\u001B[49m\u001B[38;5;241;43m=\u001B[39;49m\u001B[38;5;124;43m\"\u001B[39;49m\u001B[38;5;124;43mssp126\u001B[39;49m\u001B[38;5;124;43m\"\u001B[39;49m\u001B[43m,\u001B[49m\n\u001B[0;32m     33\u001B[0m \u001B[43m    \u001B[49m\u001B[43mstart_year\u001B[49m\u001B[38;5;241;43m=\u001B[39;49m\u001B[38;5;241;43m2035\u001B[39;49m\u001B[43m,\u001B[49m\n\u001B[0;32m     34\u001B[0m \u001B[43m    \u001B[49m\u001B[43mt_mid\u001B[49m\u001B[38;5;241;43m=\u001B[39;49m\u001B[38;5;241;43m2060\u001B[39;49m\u001B[43m,\u001B[49m\n\u001B[0;32m     35\u001B[0m \u001B[43m    \u001B[49m\u001B[43mm_adp\u001B[49m\u001B[38;5;241;43m=\u001B[39;49m\u001B[38;5;241;43m0.27\u001B[39;49m\u001B[43m,\u001B[49m\n\u001B[0;32m     36\u001B[0m \u001B[43m    \u001B[49m\u001B[43mf_app\u001B[49m\u001B[38;5;241;43m=\u001B[39;49m\u001B[38;5;241;43m0.0300\u001B[39;49m\u001B[43m,\u001B[49m\n\u001B[0;32m     37\u001B[0m \u001B[43m    \u001B[49m\u001B[43mf_del\u001B[49m\u001B[38;5;241;43m=\u001B[39;49m\u001B[38;5;241;43m0.0133\u001B[39;49m\u001B[43m,\u001B[49m\n\u001B[0;32m     38\u001B[0m \u001B[43m    \u001B[49m\u001B[43mf_prod\u001B[49m\u001B[38;5;241;43m=\u001B[39;49m\u001B[38;5;241;43m0.0178\u001B[39;49m\u001B[43m,\u001B[49m\n\u001B[0;32m     39\u001B[0m \u001B[43m    \u001B[49m\u001B[43mkd\u001B[49m\u001B[38;5;241;43m=\u001B[39;49m\u001B[38;5;241;43m0.38\u001B[39;49m\u001B[43m,\u001B[49m\n\u001B[0;32m     40\u001B[0m \u001B[43m)\u001B[49m\n",
      "File \u001B[1;32m~\\PycharmProjects\\OAC_Thesis\\openairclim\\calc_h2.py:1035\u001B[0m, in \u001B[0;36mrun_case\u001B[1;34m(wd, scenario, start_year, t_mid, m_adp, f_app, f_del, f_prod, kd)\u001B[0m\n\u001B[0;32m   1028\u001B[0m \u001B[38;5;66;03m# --- 3. Calculate Atmospheric Perturbations (Box Model) ---\u001B[39;00m\n\u001B[0;32m   1029\u001B[0m bm \u001B[38;5;241m=\u001B[39m BoxModel(\n\u001B[0;32m   1030\u001B[0m     data\u001B[38;5;241m=\u001B[39mbg_dic[scenario],\n\u001B[0;32m   1031\u001B[0m     rate_of_deposition\u001B[38;5;241m=\u001B[39mkd,\n\u001B[0;32m   1032\u001B[0m     spinup_time\u001B[38;5;241m=\u001B[39m\u001B[38;5;241m10\u001B[39m,\n\u001B[0;32m   1033\u001B[0m     start_year\u001B[38;5;241m=\u001B[39mstart_year,\n\u001B[0;32m   1034\u001B[0m )\n\u001B[1;32m-> 1035\u001B[0m perturbation_ds \u001B[38;5;241m=\u001B[39m \u001B[43mbm\u001B[49m\u001B[38;5;241;43m.\u001B[39;49m\u001B[43mget_perturbation\u001B[49m\u001B[43m(\u001B[49m\u001B[43meh2_ds\u001B[49m\u001B[43m)\u001B[49m  \u001B[38;5;66;03m# Contains doh, dh2, dch4, dco\u001B[39;00m\n\u001B[0;32m   1036\u001B[0m \u001B[38;5;28;01mreturn\u001B[39;00m perturbation_ds\n",
      "File \u001B[1;32m~\\PycharmProjects\\OAC_Thesis\\openairclim\\calc_h2.py:431\u001B[0m, in \u001B[0;36mBoxModel.get_perturbation\u001B[1;34m(self, ds_eh2)\u001B[0m\n\u001B[0;32m    428\u001B[0m ds_base \u001B[38;5;241m=\u001B[39m \u001B[38;5;28mself\u001B[39m\u001B[38;5;241m.\u001B[39mprepare_data(copy\u001B[38;5;241m.\u001B[39mdeepcopy(ds), ds_eh2)\n\u001B[0;32m    429\u001B[0m ds_pert \u001B[38;5;241m=\u001B[39m \u001B[38;5;28mself\u001B[39m\u001B[38;5;241m.\u001B[39mprepare_data(copy\u001B[38;5;241m.\u001B[39mdeepcopy(ds), ds_eh2, perturbation\u001B[38;5;241m=\u001B[39m\u001B[38;5;28;01mTrue\u001B[39;00m)\n\u001B[1;32m--> 431\u001B[0m y_base, _t_base \u001B[38;5;241m=\u001B[39m \u001B[38;5;28;43mself\u001B[39;49m\u001B[38;5;241;43m.\u001B[39;49m\u001B[43msolver\u001B[49m\u001B[43m(\u001B[49m\u001B[43mds_base\u001B[49m\u001B[43m)\u001B[49m\n\u001B[0;32m    432\u001B[0m y_pert, _t_pert \u001B[38;5;241m=\u001B[39m \u001B[38;5;28mself\u001B[39m\u001B[38;5;241m.\u001B[39msolver(ds_pert)\n\u001B[0;32m    434\u001B[0m ds \u001B[38;5;241m=\u001B[39m copy\u001B[38;5;241m.\u001B[39mdeepcopy(\u001B[38;5;28mself\u001B[39m\u001B[38;5;241m.\u001B[39mdata\u001B[38;5;241m.\u001B[39msel(time\u001B[38;5;241m=\u001B[39m\u001B[38;5;28mslice\u001B[39m(\u001B[38;5;28mself\u001B[39m\u001B[38;5;241m.\u001B[39my_start, \u001B[38;5;28;01mNone\u001B[39;00m)))\n",
      "File \u001B[1;32m~\\PycharmProjects\\OAC_Thesis\\openairclim\\calc_h2.py:383\u001B[0m, in \u001B[0;36mBoxModel.solver\u001B[1;34m(self, conditions_ds)\u001B[0m\n\u001B[0;32m    367\u001B[0m sources \u001B[38;5;241m=\u001B[39m {\n\u001B[0;32m    368\u001B[0m     \u001B[38;5;124m\"\u001B[39m\u001B[38;5;124memich4\u001B[39m\u001B[38;5;124m\"\u001B[39m: conditions_ds[\u001B[38;5;124m\"\u001B[39m\u001B[38;5;124memich4\u001B[39m\u001B[38;5;124m\"\u001B[39m],\n\u001B[0;32m    369\u001B[0m     \u001B[38;5;124m\"\u001B[39m\u001B[38;5;124memico\u001B[39m\u001B[38;5;124m\"\u001B[39m: conditions_ds[\u001B[38;5;124m\"\u001B[39m\u001B[38;5;124memico\u001B[39m\u001B[38;5;124m\"\u001B[39m],\n\u001B[0;32m    370\u001B[0m     \u001B[38;5;124m\"\u001B[39m\u001B[38;5;124memih2\u001B[39m\u001B[38;5;124m\"\u001B[39m: conditions_ds[\u001B[38;5;124m\"\u001B[39m\u001B[38;5;124memih2\u001B[39m\u001B[38;5;124m\"\u001B[39m],\n\u001B[0;32m    371\u001B[0m     \u001B[38;5;124m\"\u001B[39m\u001B[38;5;124memioh\u001B[39m\u001B[38;5;124m\"\u001B[39m: conditions_ds[\u001B[38;5;124m\"\u001B[39m\u001B[38;5;124memioh\u001B[39m\u001B[38;5;124m\"\u001B[39m],\n\u001B[0;32m    372\u001B[0m }\n\u001B[0;32m    373\u001B[0m sol \u001B[38;5;241m=\u001B[39m solve_ivp(\n\u001B[0;32m    374\u001B[0m     \u001B[38;5;28mself\u001B[39m\u001B[38;5;241m.\u001B[39msystem_of_odes,\n\u001B[0;32m    375\u001B[0m     \u001B[38;5;28mself\u001B[39m\u001B[38;5;241m.\u001B[39mt_span,\n\u001B[1;32m   (...)\u001B[0m\n\u001B[0;32m    381\u001B[0m     args\u001B[38;5;241m=\u001B[39m(sources,),\n\u001B[0;32m    382\u001B[0m )\n\u001B[1;32m--> 383\u001B[0m \u001B[38;5;28;01mreturn\u001B[39;00m \u001B[43msol\u001B[49m\u001B[38;5;241m.\u001B[39msol(t), t\n",
      "File \u001B[1;32m~\\PycharmProjects\\OAC_Thesis\\openairclim\\calc_h2.py:383\u001B[0m, in \u001B[0;36mBoxModel.solver\u001B[1;34m(self, conditions_ds)\u001B[0m\n\u001B[0;32m    367\u001B[0m sources \u001B[38;5;241m=\u001B[39m {\n\u001B[0;32m    368\u001B[0m     \u001B[38;5;124m\"\u001B[39m\u001B[38;5;124memich4\u001B[39m\u001B[38;5;124m\"\u001B[39m: conditions_ds[\u001B[38;5;124m\"\u001B[39m\u001B[38;5;124memich4\u001B[39m\u001B[38;5;124m\"\u001B[39m],\n\u001B[0;32m    369\u001B[0m     \u001B[38;5;124m\"\u001B[39m\u001B[38;5;124memico\u001B[39m\u001B[38;5;124m\"\u001B[39m: conditions_ds[\u001B[38;5;124m\"\u001B[39m\u001B[38;5;124memico\u001B[39m\u001B[38;5;124m\"\u001B[39m],\n\u001B[0;32m    370\u001B[0m     \u001B[38;5;124m\"\u001B[39m\u001B[38;5;124memih2\u001B[39m\u001B[38;5;124m\"\u001B[39m: conditions_ds[\u001B[38;5;124m\"\u001B[39m\u001B[38;5;124memih2\u001B[39m\u001B[38;5;124m\"\u001B[39m],\n\u001B[0;32m    371\u001B[0m     \u001B[38;5;124m\"\u001B[39m\u001B[38;5;124memioh\u001B[39m\u001B[38;5;124m\"\u001B[39m: conditions_ds[\u001B[38;5;124m\"\u001B[39m\u001B[38;5;124memioh\u001B[39m\u001B[38;5;124m\"\u001B[39m],\n\u001B[0;32m    372\u001B[0m }\n\u001B[0;32m    373\u001B[0m sol \u001B[38;5;241m=\u001B[39m solve_ivp(\n\u001B[0;32m    374\u001B[0m     \u001B[38;5;28mself\u001B[39m\u001B[38;5;241m.\u001B[39msystem_of_odes,\n\u001B[0;32m    375\u001B[0m     \u001B[38;5;28mself\u001B[39m\u001B[38;5;241m.\u001B[39mt_span,\n\u001B[1;32m   (...)\u001B[0m\n\u001B[0;32m    381\u001B[0m     args\u001B[38;5;241m=\u001B[39m(sources,),\n\u001B[0;32m    382\u001B[0m )\n\u001B[1;32m--> 383\u001B[0m \u001B[38;5;28;01mreturn\u001B[39;00m \u001B[43msol\u001B[49m\u001B[38;5;241m.\u001B[39msol(t), t\n",
      "File \u001B[1;32m_pydevd_bundle\\pydevd_cython_win32_39_64.pyx:1187\u001B[0m, in \u001B[0;36m_pydevd_bundle.pydevd_cython_win32_39_64.SafeCallWrapper.__call__\u001B[1;34m()\u001B[0m\n",
      "File \u001B[1;32m_pydevd_bundle\\pydevd_cython_win32_39_64.pyx:627\u001B[0m, in \u001B[0;36m_pydevd_bundle.pydevd_cython_win32_39_64.PyDBFrame.trace_dispatch\u001B[1;34m()\u001B[0m\n",
      "File \u001B[1;32m_pydevd_bundle\\pydevd_cython_win32_39_64.pyx:937\u001B[0m, in \u001B[0;36m_pydevd_bundle.pydevd_cython_win32_39_64.PyDBFrame.trace_dispatch\u001B[1;34m()\u001B[0m\n",
      "File \u001B[1;32m_pydevd_bundle\\pydevd_cython_win32_39_64.pyx:928\u001B[0m, in \u001B[0;36m_pydevd_bundle.pydevd_cython_win32_39_64.PyDBFrame.trace_dispatch\u001B[1;34m()\u001B[0m\n",
      "File \u001B[1;32m_pydevd_bundle\\pydevd_cython_win32_39_64.pyx:585\u001B[0m, in \u001B[0;36m_pydevd_bundle.pydevd_cython_win32_39_64.PyDBFrame.do_wait_suspend\u001B[1;34m()\u001B[0m\n",
      "File \u001B[1;32mC:\\Program Files\\JetBrains\\PyCharm 2024.1\\plugins\\python\\helpers\\pydev\\pydevd.py:1201\u001B[0m, in \u001B[0;36mPyDB.do_wait_suspend\u001B[1;34m(self, thread, frame, event, arg, send_suspend_message, is_unhandled_exception)\u001B[0m\n\u001B[0;32m   1198\u001B[0m         from_this_thread\u001B[38;5;241m.\u001B[39mappend(frame_id)\n\u001B[0;32m   1200\u001B[0m \u001B[38;5;28;01mwith\u001B[39;00m \u001B[38;5;28mself\u001B[39m\u001B[38;5;241m.\u001B[39m_threads_suspended_single_notification\u001B[38;5;241m.\u001B[39mnotify_thread_suspended(thread_id, stop_reason):\n\u001B[1;32m-> 1201\u001B[0m     \u001B[38;5;28;43mself\u001B[39;49m\u001B[38;5;241;43m.\u001B[39;49m\u001B[43m_do_wait_suspend\u001B[49m\u001B[43m(\u001B[49m\u001B[43mthread\u001B[49m\u001B[43m,\u001B[49m\u001B[43m \u001B[49m\u001B[43mframe\u001B[49m\u001B[43m,\u001B[49m\u001B[43m \u001B[49m\u001B[43mevent\u001B[49m\u001B[43m,\u001B[49m\u001B[43m \u001B[49m\u001B[43marg\u001B[49m\u001B[43m,\u001B[49m\u001B[43m \u001B[49m\u001B[43msuspend_type\u001B[49m\u001B[43m,\u001B[49m\u001B[43m \u001B[49m\u001B[43mfrom_this_thread\u001B[49m\u001B[43m)\u001B[49m\n",
      "File \u001B[1;32mC:\\Program Files\\JetBrains\\PyCharm 2024.1\\plugins\\python\\helpers\\pydev\\pydevd.py:1216\u001B[0m, in \u001B[0;36mPyDB._do_wait_suspend\u001B[1;34m(self, thread, frame, event, arg, suspend_type, from_this_thread)\u001B[0m\n\u001B[0;32m   1213\u001B[0m             \u001B[38;5;28mself\u001B[39m\u001B[38;5;241m.\u001B[39m_call_mpl_hook()\n\u001B[0;32m   1215\u001B[0m         \u001B[38;5;28mself\u001B[39m\u001B[38;5;241m.\u001B[39mprocess_internal_commands()\n\u001B[1;32m-> 1216\u001B[0m         \u001B[43mtime\u001B[49m\u001B[38;5;241;43m.\u001B[39;49m\u001B[43msleep\u001B[49m\u001B[43m(\u001B[49m\u001B[38;5;241;43m0.01\u001B[39;49m\u001B[43m)\u001B[49m\n\u001B[0;32m   1218\u001B[0m \u001B[38;5;28mself\u001B[39m\u001B[38;5;241m.\u001B[39mcancel_async_evaluation(get_current_thread_id(thread), \u001B[38;5;28mstr\u001B[39m(\u001B[38;5;28mid\u001B[39m(frame)))\n\u001B[0;32m   1220\u001B[0m \u001B[38;5;66;03m# process any stepping instructions\u001B[39;00m\n",
      "\u001B[1;31mKeyboardInterrupt\u001B[0m: "
     ]
    }
   ],
   "execution_count": 21
  },
  {
   "metadata": {
    "ExecuteTime": {
     "end_time": "2025-10-03T12:02:17.151368Z",
     "start_time": "2025-10-03T12:02:16.818458Z"
    }
   },
   "cell_type": "code",
   "source": "xr.load_dataset(result, engine=\"h5netcdf\")",
   "id": "a5cda8fb1096dde8",
   "outputs": [
    {
     "ename": "TypeError",
     "evalue": "unhashable type: 'Dataset'",
     "output_type": "error",
     "traceback": [
      "\u001B[1;31m---------------------------------------------------------------------------\u001B[0m",
      "\u001B[1;31mTypeError\u001B[0m                                 Traceback (most recent call last)",
      "Cell \u001B[1;32mIn[9], line 1\u001B[0m\n\u001B[1;32m----> 1\u001B[0m \u001B[43mxr\u001B[49m\u001B[38;5;241;43m.\u001B[39;49m\u001B[43mload_dataset\u001B[49m\u001B[43m(\u001B[49m\u001B[43mresult\u001B[49m\u001B[43m,\u001B[49m\u001B[43m \u001B[49m\u001B[43mengine\u001B[49m\u001B[38;5;241;43m=\u001B[39;49m\u001B[38;5;124;43m\"\u001B[39;49m\u001B[38;5;124;43mh5netcdf\u001B[39;49m\u001B[38;5;124;43m\"\u001B[39;49m\u001B[43m)\u001B[49m\n",
      "File \u001B[1;32m~\\AppData\\Roaming\\Python\\Python39\\site-packages\\xarray\\backends\\api.py:277\u001B[0m, in \u001B[0;36mload_dataset\u001B[1;34m(filename_or_obj, **kwargs)\u001B[0m\n\u001B[0;32m    274\u001B[0m \u001B[38;5;28;01mif\u001B[39;00m \u001B[38;5;124m\"\u001B[39m\u001B[38;5;124mcache\u001B[39m\u001B[38;5;124m\"\u001B[39m \u001B[38;5;129;01min\u001B[39;00m kwargs:\n\u001B[0;32m    275\u001B[0m     \u001B[38;5;28;01mraise\u001B[39;00m \u001B[38;5;167;01mTypeError\u001B[39;00m(\u001B[38;5;124m\"\u001B[39m\u001B[38;5;124mcache has no effect in this context\u001B[39m\u001B[38;5;124m\"\u001B[39m)\n\u001B[1;32m--> 277\u001B[0m \u001B[38;5;28;01mwith\u001B[39;00m open_dataset(filename_or_obj, \u001B[38;5;241m*\u001B[39m\u001B[38;5;241m*\u001B[39mkwargs) \u001B[38;5;28;01mas\u001B[39;00m ds:\n\u001B[0;32m    278\u001B[0m     \u001B[38;5;28;01mreturn\u001B[39;00m ds\u001B[38;5;241m.\u001B[39mload()\n",
      "File \u001B[1;32m~\\AppData\\Roaming\\Python\\Python39\\site-packages\\xarray\\backends\\api.py:588\u001B[0m, in \u001B[0;36mopen_dataset\u001B[1;34m(filename_or_obj, engine, chunks, cache, decode_cf, mask_and_scale, decode_times, decode_timedelta, use_cftime, concat_characters, decode_coords, drop_variables, inline_array, chunked_array_type, from_array_kwargs, backend_kwargs, **kwargs)\u001B[0m\n\u001B[0;32m    576\u001B[0m decoders \u001B[38;5;241m=\u001B[39m _resolve_decoders_kwargs(\n\u001B[0;32m    577\u001B[0m     decode_cf,\n\u001B[0;32m    578\u001B[0m     open_backend_dataset_parameters\u001B[38;5;241m=\u001B[39mbackend\u001B[38;5;241m.\u001B[39mopen_dataset_parameters,\n\u001B[1;32m   (...)\u001B[0m\n\u001B[0;32m    584\u001B[0m     decode_coords\u001B[38;5;241m=\u001B[39mdecode_coords,\n\u001B[0;32m    585\u001B[0m )\n\u001B[0;32m    587\u001B[0m overwrite_encoded_chunks \u001B[38;5;241m=\u001B[39m kwargs\u001B[38;5;241m.\u001B[39mpop(\u001B[38;5;124m\"\u001B[39m\u001B[38;5;124moverwrite_encoded_chunks\u001B[39m\u001B[38;5;124m\"\u001B[39m, \u001B[38;5;28;01mNone\u001B[39;00m)\n\u001B[1;32m--> 588\u001B[0m backend_ds \u001B[38;5;241m=\u001B[39m backend\u001B[38;5;241m.\u001B[39mopen_dataset(\n\u001B[0;32m    589\u001B[0m     filename_or_obj,\n\u001B[0;32m    590\u001B[0m     drop_variables\u001B[38;5;241m=\u001B[39mdrop_variables,\n\u001B[0;32m    591\u001B[0m     \u001B[38;5;241m*\u001B[39m\u001B[38;5;241m*\u001B[39mdecoders,\n\u001B[0;32m    592\u001B[0m     \u001B[38;5;241m*\u001B[39m\u001B[38;5;241m*\u001B[39mkwargs,\n\u001B[0;32m    593\u001B[0m )\n\u001B[0;32m    594\u001B[0m ds \u001B[38;5;241m=\u001B[39m _dataset_from_backend_dataset(\n\u001B[0;32m    595\u001B[0m     backend_ds,\n\u001B[0;32m    596\u001B[0m     filename_or_obj,\n\u001B[1;32m   (...)\u001B[0m\n\u001B[0;32m    606\u001B[0m     \u001B[38;5;241m*\u001B[39m\u001B[38;5;241m*\u001B[39mkwargs,\n\u001B[0;32m    607\u001B[0m )\n\u001B[0;32m    608\u001B[0m \u001B[38;5;28;01mreturn\u001B[39;00m ds\n",
      "File \u001B[1;32m~\\AppData\\Roaming\\Python\\Python39\\site-packages\\xarray\\backends\\h5netcdf_.py:404\u001B[0m, in \u001B[0;36mH5netcdfBackendEntrypoint.open_dataset\u001B[1;34m(self, filename_or_obj, mask_and_scale, decode_times, concat_characters, decode_coords, drop_variables, use_cftime, decode_timedelta, format, group, lock, invalid_netcdf, phony_dims, decode_vlen_strings, driver, driver_kwds)\u001B[0m\n\u001B[0;32m    383\u001B[0m \u001B[38;5;28;01mdef\u001B[39;00m \u001B[38;5;21mopen_dataset\u001B[39m(  \u001B[38;5;66;03m# type: ignore[override]  # allow LSP violation, not supporting **kwargs\u001B[39;00m\n\u001B[0;32m    384\u001B[0m     \u001B[38;5;28mself\u001B[39m,\n\u001B[0;32m    385\u001B[0m     filename_or_obj: \u001B[38;5;28mstr\u001B[39m \u001B[38;5;241m|\u001B[39m os\u001B[38;5;241m.\u001B[39mPathLike[Any] \u001B[38;5;241m|\u001B[39m BufferedIOBase \u001B[38;5;241m|\u001B[39m AbstractDataStore,\n\u001B[1;32m   (...)\u001B[0m\n\u001B[0;32m    401\u001B[0m     driver_kwds\u001B[38;5;241m=\u001B[39m\u001B[38;5;28;01mNone\u001B[39;00m,\n\u001B[0;32m    402\u001B[0m ) \u001B[38;5;241m-\u001B[39m\u001B[38;5;241m>\u001B[39m Dataset:\n\u001B[0;32m    403\u001B[0m     filename_or_obj \u001B[38;5;241m=\u001B[39m _normalize_path(filename_or_obj)\n\u001B[1;32m--> 404\u001B[0m     store \u001B[38;5;241m=\u001B[39m \u001B[43mH5NetCDFStore\u001B[49m\u001B[38;5;241;43m.\u001B[39;49m\u001B[43mopen\u001B[49m\u001B[43m(\u001B[49m\n\u001B[0;32m    405\u001B[0m \u001B[43m        \u001B[49m\u001B[43mfilename_or_obj\u001B[49m\u001B[43m,\u001B[49m\n\u001B[0;32m    406\u001B[0m \u001B[43m        \u001B[49m\u001B[38;5;28;43mformat\u001B[39;49m\u001B[38;5;241;43m=\u001B[39;49m\u001B[38;5;28;43mformat\u001B[39;49m\u001B[43m,\u001B[49m\n\u001B[0;32m    407\u001B[0m \u001B[43m        \u001B[49m\u001B[43mgroup\u001B[49m\u001B[38;5;241;43m=\u001B[39;49m\u001B[43mgroup\u001B[49m\u001B[43m,\u001B[49m\n\u001B[0;32m    408\u001B[0m \u001B[43m        \u001B[49m\u001B[43mlock\u001B[49m\u001B[38;5;241;43m=\u001B[39;49m\u001B[43mlock\u001B[49m\u001B[43m,\u001B[49m\n\u001B[0;32m    409\u001B[0m \u001B[43m        \u001B[49m\u001B[43minvalid_netcdf\u001B[49m\u001B[38;5;241;43m=\u001B[39;49m\u001B[43minvalid_netcdf\u001B[49m\u001B[43m,\u001B[49m\n\u001B[0;32m    410\u001B[0m \u001B[43m        \u001B[49m\u001B[43mphony_dims\u001B[49m\u001B[38;5;241;43m=\u001B[39;49m\u001B[43mphony_dims\u001B[49m\u001B[43m,\u001B[49m\n\u001B[0;32m    411\u001B[0m \u001B[43m        \u001B[49m\u001B[43mdecode_vlen_strings\u001B[49m\u001B[38;5;241;43m=\u001B[39;49m\u001B[43mdecode_vlen_strings\u001B[49m\u001B[43m,\u001B[49m\n\u001B[0;32m    412\u001B[0m \u001B[43m        \u001B[49m\u001B[43mdriver\u001B[49m\u001B[38;5;241;43m=\u001B[39;49m\u001B[43mdriver\u001B[49m\u001B[43m,\u001B[49m\n\u001B[0;32m    413\u001B[0m \u001B[43m        \u001B[49m\u001B[43mdriver_kwds\u001B[49m\u001B[38;5;241;43m=\u001B[39;49m\u001B[43mdriver_kwds\u001B[49m\u001B[43m,\u001B[49m\n\u001B[0;32m    414\u001B[0m \u001B[43m    \u001B[49m\u001B[43m)\u001B[49m\n\u001B[0;32m    416\u001B[0m     store_entrypoint \u001B[38;5;241m=\u001B[39m StoreBackendEntrypoint()\n\u001B[0;32m    418\u001B[0m     ds \u001B[38;5;241m=\u001B[39m store_entrypoint\u001B[38;5;241m.\u001B[39mopen_dataset(\n\u001B[0;32m    419\u001B[0m         store,\n\u001B[0;32m    420\u001B[0m         mask_and_scale\u001B[38;5;241m=\u001B[39mmask_and_scale,\n\u001B[1;32m   (...)\u001B[0m\n\u001B[0;32m    426\u001B[0m         decode_timedelta\u001B[38;5;241m=\u001B[39mdecode_timedelta,\n\u001B[0;32m    427\u001B[0m     )\n",
      "File \u001B[1;32m~\\AppData\\Roaming\\Python\\Python39\\site-packages\\xarray\\backends\\h5netcdf_.py:183\u001B[0m, in \u001B[0;36mH5NetCDFStore.open\u001B[1;34m(cls, filename, mode, format, group, lock, autoclose, invalid_netcdf, phony_dims, decode_vlen_strings, driver, driver_kwds)\u001B[0m\n\u001B[0;32m    180\u001B[0m     \u001B[38;5;28;01melse\u001B[39;00m:\n\u001B[0;32m    181\u001B[0m         lock \u001B[38;5;241m=\u001B[39m combine_locks([HDF5_LOCK, get_write_lock(filename)])\n\u001B[1;32m--> 183\u001B[0m manager \u001B[38;5;241m=\u001B[39m \u001B[43mCachingFileManager\u001B[49m\u001B[43m(\u001B[49m\u001B[43mh5netcdf\u001B[49m\u001B[38;5;241;43m.\u001B[39;49m\u001B[43mFile\u001B[49m\u001B[43m,\u001B[49m\u001B[43m \u001B[49m\u001B[43mfilename\u001B[49m\u001B[43m,\u001B[49m\u001B[43m \u001B[49m\u001B[43mmode\u001B[49m\u001B[38;5;241;43m=\u001B[39;49m\u001B[43mmode\u001B[49m\u001B[43m,\u001B[49m\u001B[43m \u001B[49m\u001B[43mkwargs\u001B[49m\u001B[38;5;241;43m=\u001B[39;49m\u001B[43mkwargs\u001B[49m\u001B[43m)\u001B[49m\n\u001B[0;32m    184\u001B[0m \u001B[38;5;28;01mreturn\u001B[39;00m \u001B[38;5;28mcls\u001B[39m(manager, group\u001B[38;5;241m=\u001B[39mgroup, mode\u001B[38;5;241m=\u001B[39mmode, lock\u001B[38;5;241m=\u001B[39mlock, autoclose\u001B[38;5;241m=\u001B[39mautoclose)\n",
      "File \u001B[1;32m~\\AppData\\Roaming\\Python\\Python39\\site-packages\\xarray\\backends\\file_manager.py:148\u001B[0m, in \u001B[0;36mCachingFileManager.__init__\u001B[1;34m(self, opener, mode, kwargs, lock, cache, manager_id, ref_counts, *args)\u001B[0m\n\u001B[0;32m    146\u001B[0m     manager_id \u001B[38;5;241m=\u001B[39m \u001B[38;5;28mstr\u001B[39m(uuid\u001B[38;5;241m.\u001B[39muuid4())\n\u001B[0;32m    147\u001B[0m \u001B[38;5;28mself\u001B[39m\u001B[38;5;241m.\u001B[39m_manager_id \u001B[38;5;241m=\u001B[39m manager_id\n\u001B[1;32m--> 148\u001B[0m \u001B[38;5;28mself\u001B[39m\u001B[38;5;241m.\u001B[39m_key \u001B[38;5;241m=\u001B[39m \u001B[38;5;28;43mself\u001B[39;49m\u001B[38;5;241;43m.\u001B[39;49m\u001B[43m_make_key\u001B[49m\u001B[43m(\u001B[49m\u001B[43m)\u001B[49m\n\u001B[0;32m    150\u001B[0m \u001B[38;5;66;03m# ref_counts[self._key] stores the number of CachingFileManager objects\u001B[39;00m\n\u001B[0;32m    151\u001B[0m \u001B[38;5;66;03m# in memory referencing this same file. We use this to know if we can\u001B[39;00m\n\u001B[0;32m    152\u001B[0m \u001B[38;5;66;03m# close a file when the manager is deallocated.\u001B[39;00m\n\u001B[0;32m    153\u001B[0m \u001B[38;5;28;01mif\u001B[39;00m ref_counts \u001B[38;5;129;01mis\u001B[39;00m \u001B[38;5;28;01mNone\u001B[39;00m:\n",
      "File \u001B[1;32m~\\AppData\\Roaming\\Python\\Python39\\site-packages\\xarray\\backends\\file_manager.py:167\u001B[0m, in \u001B[0;36mCachingFileManager._make_key\u001B[1;34m(self)\u001B[0m\n\u001B[0;32m    159\u001B[0m \u001B[38;5;250m\u001B[39m\u001B[38;5;124;03m\"\"\"Make a key for caching files in the LRU cache.\"\"\"\u001B[39;00m\n\u001B[0;32m    160\u001B[0m value \u001B[38;5;241m=\u001B[39m (\n\u001B[0;32m    161\u001B[0m     \u001B[38;5;28mself\u001B[39m\u001B[38;5;241m.\u001B[39m_opener,\n\u001B[0;32m    162\u001B[0m     \u001B[38;5;28mself\u001B[39m\u001B[38;5;241m.\u001B[39m_args,\n\u001B[1;32m   (...)\u001B[0m\n\u001B[0;32m    165\u001B[0m     \u001B[38;5;28mself\u001B[39m\u001B[38;5;241m.\u001B[39m_manager_id,\n\u001B[0;32m    166\u001B[0m )\n\u001B[1;32m--> 167\u001B[0m \u001B[38;5;28;01mreturn\u001B[39;00m \u001B[43m_HashedSequence\u001B[49m\u001B[43m(\u001B[49m\u001B[43mvalue\u001B[49m\u001B[43m)\u001B[49m\n",
      "File \u001B[1;32m~\\AppData\\Roaming\\Python\\Python39\\site-packages\\xarray\\backends\\file_manager.py:333\u001B[0m, in \u001B[0;36m_HashedSequence.__init__\u001B[1;34m(self, tuple_value)\u001B[0m\n\u001B[0;32m    331\u001B[0m \u001B[38;5;28;01mdef\u001B[39;00m \u001B[38;5;21m__init__\u001B[39m(\u001B[38;5;28mself\u001B[39m, tuple_value):\n\u001B[0;32m    332\u001B[0m     \u001B[38;5;28mself\u001B[39m[:] \u001B[38;5;241m=\u001B[39m tuple_value\n\u001B[1;32m--> 333\u001B[0m     \u001B[38;5;28mself\u001B[39m\u001B[38;5;241m.\u001B[39mhashvalue \u001B[38;5;241m=\u001B[39m \u001B[38;5;28;43mhash\u001B[39;49m\u001B[43m(\u001B[49m\u001B[43mtuple_value\u001B[49m\u001B[43m)\u001B[49m\n",
      "\u001B[1;31mTypeError\u001B[0m: unhashable type: 'Dataset'"
     ]
    }
   ],
   "execution_count": 9
  },
  {
   "metadata": {
    "ExecuteTime": {
     "end_time": "2025-10-03T12:02:26.541912Z",
     "start_time": "2025-10-03T12:02:26.524222Z"
    }
   },
   "cell_type": "code",
   "source": "print(result)",
   "id": "9cb776125d8c20b6",
   "outputs": [
    {
     "name": "stdout",
     "output_type": "stream",
     "text": [
      "<xarray.Dataset> Size: 6kB\n",
      "Dimensions:   (time: 66)\n",
      "Coordinates:\n",
      "  * time      (time) datetime64[ns] 528B 2035-01-01 2036-01-01 ... 2100-01-01\n",
      "Data variables:\n",
      "    ch4_trop  (time) float64 528B 1.726e-06 1.71e-06 ... 1.055e-06 1.05e-06\n",
      "    co_trop   (time) float64 528B 6.991e-08 6.964e-08 ... 5.016e-08 5.005e-08\n",
      "    oh_trop   (time) float64 528B 5.895e-14 5.895e-14 ... 6.3e-14 6.324e-14\n",
      "    emico     (time) float64 528B 5.336e+11 5.33e+11 ... 3.59e+11 3.533e+11\n",
      "    emich4    (time) float64 528B 2.62e+11 2.579e+11 ... 1.237e+11 1.222e+11\n",
      "    h2        (time) float64 528B 6.057e-07 6.023e-07 ... 5.033e-07 5.027e-07\n",
      "    dch4      (time) float64 528B 1.982e-11 2.118e-11 ... 1.879e-08 1.878e-08\n",
      "    dco       (time) float64 528B 1.348e-12 1.363e-12 ... 1.269e-09 1.266e-09\n",
      "    doh       (time) float64 528B -1.518e-18 -1.628e-18 ... -2.756e-15\n",
      "    dh2       (time) float64 528B 1.216e-10 1.308e-10 ... 1.417e-07 1.422e-07\n"
     ]
    }
   ],
   "execution_count": 10
  },
  {
   "metadata": {
    "ExecuteTime": {
     "end_time": "2025-10-03T12:19:17.430249Z",
     "start_time": "2025-10-03T12:19:17.260157Z"
    }
   },
   "cell_type": "code",
   "source": [
    "import matplotlib.pyplot as plt\n",
    "result['h2'].plot(label= 'when normal production')\n",
    "result['dh2'].plot(label= 'perturbed-normalproduction')\n",
    "p = result['dh2']+result['h2']\n",
    "p.plot(label= 'perturbed-situation')\n",
    "plt.legend()\n",
    "plt.show()\n",
    "# result['h2']"
   ],
   "id": "bd4984fe2f9568e3",
   "outputs": [
    {
     "data": {
      "text/plain": [
       "<Figure size 640x480 with 1 Axes>"
      ],
      "image/png": "[encoded data removed]"
     },
     "metadata": {},
     "output_type": "display_data"
    }
   ],
   "execution_count": 24
  },
  {
   "metadata": {
    "ExecuteTime": {
     "end_time": "2025-10-03T14:17:42.159489Z",
     "start_time": "2025-10-03T14:17:42.151301Z"
    }
   },
   "cell_type": "code",
   "source": [
    "import numpy as np\n",
    "h2_perturbation = np.array(result['dh2'])\n",
    "\n",
    "# 1500ppbv = 1950-2000 myhre = 130Tg\n",
    "# 1ppbv = 130/1500\n",
    "h2_SWV_mass = h2_perturbation*10**9/1500*130\n",
    "h2_SWV_mass\n",
    "\n",
    "\n"
   ],
   "id": "2159180b1baeed14",
   "outputs": [
    {
     "data": {
      "text/plain": [
       "array([1.05389457e-02, 1.13369828e-02, 1.34873354e-02, 1.69731963e-02,\n",
       "       2.19514091e-02, 2.87471148e-02, 3.78442945e-02, 4.99061998e-02,\n",
       "       6.58274727e-02, 8.67605242e-02, 1.14205358e-01, 1.50051053e-01,\n",
       "       1.96667086e-01, 2.57193210e-01, 3.35640244e-01, 4.36501697e-01,\n",
       "       5.66579054e-01, 7.32171157e-01, 9.39900491e-01, 1.19793124e+00,\n",
       "       1.51424021e+00, 1.89555332e+00, 2.34612835e+00, 2.86632266e+00,\n",
       "       3.45139787e+00, 4.09097259e+00, 4.76929090e+00, 5.46672411e+00,\n",
       "       6.16201370e+00, 6.83480852e+00, 7.46799592e+00, 8.04907173e+00,\n",
       "       8.57030125e+00, 9.02940459e+00, 9.42728610e+00, 9.76787629e+00,\n",
       "       1.00567508e+01, 1.03003046e+01, 1.05050539e+01, 1.06772237e+01,\n",
       "       1.08224868e+01, 1.09461364e+01, 1.10522790e+01, 1.11444808e+01,\n",
       "       1.12255906e+01, 1.12979906e+01, 1.13636917e+01, 1.14242860e+01,\n",
       "       1.14810344e+01, 1.15349721e+01, 1.15868888e+01, 1.16374144e+01,\n",
       "       1.16870329e+01, 1.17361089e+01, 1.17849143e+01, 1.18336438e+01,\n",
       "       1.18824606e+01, 1.19314259e+01, 1.19805765e+01, 1.20299130e+01,\n",
       "       1.20794099e+01, 1.21290358e+01, 1.21787351e+01, 1.22283906e+01,\n",
       "       1.22779013e+01, 1.23271622e+01])"
      ]
     },
     "execution_count": 30,
     "metadata": {},
     "output_type": "execute_result"
    }
   ],
   "execution_count": 30
  },
  {
   "metadata": {
    "ExecuteTime": {
     "end_time": "2025-10-03T14:21:09.458343Z",
     "start_time": "2025-10-03T14:21:09.445356Z"
    }
   },
   "cell_type": "code",
   "source": [
    "rf_swv_list = []\n",
    "a = -0.00088\n",
    "b = 0.47373\n",
    "c = -0.74676\n",
    "for value in h2_SWV_mass:\n",
    "    negative = False\n",
    "    if value < 0:\n",
    "        negative = True\n",
    "        value = abs(value)\n",
    "    if value > 160 or value < -1.58:\n",
    "        raise ValueError(\"Total SWV mass out of range of Pletzer plot\")\n",
    "    rf_value = (a * value**2 + b * value + c) / 1000  # to make it W/m2 from mW/m2\n",
    "    rf_swv_list.append(rf_value)\n",
    "rf_swv_list"
   ],
   "id": "1ae95818bbfcb4a0",
   "outputs": [
    {
     "data": {
      "text/plain": [
       "[np.float64(-0.0007417674829782306),\n",
       " np.float64(-0.0007413894442298481),\n",
       " np.float64(-0.0007403708046851944),\n",
       " np.float64(-0.0007387195412429861),\n",
       " np.float64(-0.0007363613829916792),\n",
       " np.float64(-0.0007331423565331205),\n",
       " np.float64(-0.0007288332827024745),\n",
       " np.float64(-0.0007231201277196489),\n",
       " np.float64(-0.0007155793646075083),\n",
       " np.float64(-0.0007056655609602112),\n",
       " np.float64(-0.0006926689733190529),\n",
       " np.float64(-0.0006756961280175459),\n",
       " np.float64(-0.0006536269379137922),\n",
       " np.float64(-0.000624978071404193),\n",
       " np.float64(-0.0005878562830924592),\n",
       " np.float64(-0.0005401437205414695),\n",
       " np.float64(-0.0004786369953719435),\n",
       " np.float64(-0.00040038030334215786),\n",
       " np.float64(-0.00030227834398406444),\n",
       " np.float64(-0.0001805268690882229),\n",
       " np.float64(-3.143675740785412e-05),\n",
       " np.float64(0.00014805852640018403),\n",
       " np.float64(0.00035982758393175826),\n",
       " np.float64(0.000603873125550985),\n",
       " np.float64(0.0008777880246894264),\n",
       " np.float64(0.001176528716043058),\n",
       " np.float64(0.0014925795794754797),\n",
       " np.float64(0.0018166923468667085),\n",
       " np.float64(0.0021389567855480225),\n",
       " np.float64(0.002449984983475732),\n",
       " np.float64(0.002741975259891827),\n",
       " np.float64(0.003009313701169407),\n",
       " np.float64(0.0032486127536974665),\n",
       " np.float64(0.003458993308203838),\n",
       " np.float64(0.003641019365531461),\n",
       " np.float64(0.003796613998762437),\n",
       " np.float64(0.003928422891656915),\n",
       " np.float64(0.004039438577785616),\n",
       " np.float64(0.004132685759355361),\n",
       " np.float64(0.004211038463449546),\n",
       " np.float64(0.004277105581061435),\n",
       " np.float64(0.004333313443381463),\n",
       " np.float64(0.004381541620634165),\n",
       " np.float64(0.004423419363800012),\n",
       " np.float64(0.004460246839340605),\n",
       " np.float64(0.004493109829426274),\n",
       " np.float64(0.004522924189786127),\n",
       " np.float64(0.004550414408395804),\n",
       " np.float64(0.004576153955865744),\n",
       " np.float64(0.004600613401026586),\n",
       " np.float64(0.004624151555986009),\n",
       " np.float64(0.0046470544377283235),\n",
       " np.float64(0.004669541766842356),\n",
       " np.float64(0.004691778972362969),\n",
       " np.float64(0.004713889336347843),\n",
       " np.float64(0.0047359611520572924),\n",
       " np.float64(0.004758068330117377),\n",
       " np.float64(0.00478023852997517),\n",
       " np.float64(0.004802488393355555),\n",
       " np.float64(0.004824818131709856),\n",
       " np.float64(0.004847216150427619),\n",
       " np.float64(0.0048696682210039215),\n",
       " np.float64(0.004892149168916485),\n",
       " np.float64(0.0049146059737113085),\n",
       " np.float64(0.0049369929243186774),\n",
       " np.float64(0.004959262692372504)]"
      ]
     },
     "execution_count": 31,
     "metadata": {},
     "output_type": "execute_result"
    }
   ],
   "execution_count": 31
  },
  {
   "metadata": {},
   "cell_type": "code",
   "outputs": [],
   "execution_count": null,
   "source": "",
   "id": "e4501a1d1247c64c"
  }
 ],
 "metadata": {
  "kernelspec": {
   "display_name": "Python 3",
   "language": "python",
   "name": "python3"
  },
  "language_info": {
   "codemirror_mode": {
    "name": "ipython",
    "version": 2
   },
   "file_extension": ".py",
   "mimetype": "text/x-python",
   "name": "python",
   "nbconvert_exporter": "python",
   "pygments_lexer": "ipython2",
   "version": "2.7.6"
  }
 },
 "nbformat": 4,
 "nbformat_minor": 5
}
